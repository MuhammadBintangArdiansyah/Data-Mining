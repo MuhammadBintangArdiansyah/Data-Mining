{
  "cells": [
    {
      "cell_type": "code",
      "source": [
        "import numpy as np\n",
        "import pandas as pd\n",
        "from sklearn import tree"
      ],
      "metadata": {
        "id": "R8XrbkcWYqgE"
      },
      "execution_count": 6,
      "outputs": []
    },
    {
      "cell_type": "code",
      "source": [
        "irisDataset = pd.read_csv('Social_Network_Ads.csv', delimiter=',', header=0)\n",
        "\n",
        "irisDataset[\"Gender\"] = pd.factorize(irisDataset.Gender)[0]\n",
        "irisDataset = irisDataset.drop(labels='User ID', axis=1)\n",
        "irisDataset = irisDataset.to_numpy()"
      ],
      "metadata": {
        "id": "UlnzYzm8ZAuc"
      },
      "execution_count": null,
      "outputs": []
    },
    {
      "cell_type": "code",
      "source": [
        "dataTraining = np.concatenate((irisDataset[0:40,:], irisDataset[50:90,:]), axis=0)\n",
        "dataTesting = np.concatenate((irisDataset[40:50,:], irisDataset[90:100,:]), axis=0)"
      ],
      "metadata": {
        "id": "YGfvQS9cZC49"
      },
      "execution_count": null,
      "outputs": []
    },
    {
      "cell_type": "code",
      "source": [
        "inputTraining = dataTraining[:,0:4]\n",
        "inputTesting = dataTesting[:,0:4]\n",
        "labelTraining = dataTraining[:,3]\n",
        "labelTesting = dataTesting[:,3]"
      ],
      "metadata": {
        "id": "7DtKdkIAZFJj"
      },
      "execution_count": null,
      "outputs": []
    },
    {
      "cell_type": "code",
      "source": [
        "model = tree.DecisionTreeClassifier()\n",
        "model = model.fit(inputTraining, labelTraining)\n",
        "\n",
        "hasilPrediksi = model.predict(inputTesting)\n",
        "print('label sebenarnya ', labelTesting)\n",
        "print('hasil sebenarnya ', hasilPrediksi)\n",
        "\n",
        "prediksiBenar = (hasilPrediksi == labelTesting).sum()\n",
        "prediksiSalah = (hasilPrediksi != labelTesting).sum()\n",
        "print('prediksi benar: ', prediksiBenar, ' data')\n",
        "print('prediksi salah: ', prediksiSalah, ' data')\n",
        "print('akurasi: ', prediksiBenar/(prediksiBenar+prediksiSalah) * 100, '%')"
      ],
      "metadata": {
        "id": "OZBCHZ7AZHab"
      },
      "execution_count": null,
      "outputs": []
    }
  ],
  "metadata": {
    "colab": {
      "collapsed_sections": [],
      "name": "Selamat Datang di Colaboratory",
      "toc_visible": true,
      "provenance": []
    },
    "kernelspec": {
      "display_name": "Python 3",
      "name": "python3"
    }
  },
  "nbformat": 4,
  "nbformat_minor": 0
}